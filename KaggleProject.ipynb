{
 "cells": [
  {
   "cell_type": "markdown",
   "metadata": {},
   "source": [
    "In this project I analyze a 1000 row dataset that was on Kaggle, showing variables, gender, race/ethnicity, parental level of education,lunch option(standard or free/reduced), whether a test prep course was taken or not, math score, reading score, and writing score. In this project I further develop my data visualization skills making stacked bar charts, multiple-bar bar charts, correlation matrix, scatter plots, and also used linear regression to predict the expected outcome of a students score based off of all these other variables. "
   ]
  },
  {
   "cell_type": "code",
   "execution_count": 1,
   "metadata": {},
   "outputs": [],
   "source": [
    "import pandas as pd \n",
    "import numpy as np \n",
    "import seaborn \n",
    "import matplotlib.pyplot as plt\n",
    "from sklearn.linear_model import LinearRegression"
   ]
  },
  {
   "cell_type": "code",
   "execution_count": 2,
   "metadata": {},
   "outputs": [
    {
     "data": {
      "text/html": [
       "<div>\n",
       "<style scoped>\n",
       "    .dataframe tbody tr th:only-of-type {\n",
       "        vertical-align: middle;\n",
       "    }\n",
       "\n",
       "    .dataframe tbody tr th {\n",
       "        vertical-align: top;\n",
       "    }\n",
       "\n",
       "    .dataframe thead th {\n",
       "        text-align: right;\n",
       "    }\n",
       "</style>\n",
       "<table border=\"1\" class=\"dataframe\">\n",
       "  <thead>\n",
       "    <tr style=\"text-align: right;\">\n",
       "      <th></th>\n",
       "      <th>gender</th>\n",
       "      <th>race/ethnicity</th>\n",
       "      <th>parental level of education</th>\n",
       "      <th>lunch</th>\n",
       "      <th>test preparation course</th>\n",
       "      <th>math score</th>\n",
       "      <th>reading score</th>\n",
       "      <th>writing score</th>\n",
       "    </tr>\n",
       "  </thead>\n",
       "  <tbody>\n",
       "    <tr>\n",
       "      <th>0</th>\n",
       "      <td>female</td>\n",
       "      <td>group B</td>\n",
       "      <td>bachelor's degree</td>\n",
       "      <td>standard</td>\n",
       "      <td>none</td>\n",
       "      <td>72</td>\n",
       "      <td>72</td>\n",
       "      <td>74</td>\n",
       "    </tr>\n",
       "    <tr>\n",
       "      <th>1</th>\n",
       "      <td>female</td>\n",
       "      <td>group C</td>\n",
       "      <td>some college</td>\n",
       "      <td>standard</td>\n",
       "      <td>completed</td>\n",
       "      <td>69</td>\n",
       "      <td>90</td>\n",
       "      <td>88</td>\n",
       "    </tr>\n",
       "    <tr>\n",
       "      <th>2</th>\n",
       "      <td>female</td>\n",
       "      <td>group B</td>\n",
       "      <td>master's degree</td>\n",
       "      <td>standard</td>\n",
       "      <td>none</td>\n",
       "      <td>90</td>\n",
       "      <td>95</td>\n",
       "      <td>93</td>\n",
       "    </tr>\n",
       "    <tr>\n",
       "      <th>3</th>\n",
       "      <td>male</td>\n",
       "      <td>group A</td>\n",
       "      <td>associate's degree</td>\n",
       "      <td>free/reduced</td>\n",
       "      <td>none</td>\n",
       "      <td>47</td>\n",
       "      <td>57</td>\n",
       "      <td>44</td>\n",
       "    </tr>\n",
       "    <tr>\n",
       "      <th>4</th>\n",
       "      <td>male</td>\n",
       "      <td>group C</td>\n",
       "      <td>some college</td>\n",
       "      <td>standard</td>\n",
       "      <td>none</td>\n",
       "      <td>76</td>\n",
       "      <td>78</td>\n",
       "      <td>75</td>\n",
       "    </tr>\n",
       "  </tbody>\n",
       "</table>\n",
       "</div>"
      ],
      "text/plain": [
       "   gender race/ethnicity parental level of education         lunch  \\\n",
       "0  female        group B           bachelor's degree      standard   \n",
       "1  female        group C                some college      standard   \n",
       "2  female        group B             master's degree      standard   \n",
       "3    male        group A          associate's degree  free/reduced   \n",
       "4    male        group C                some college      standard   \n",
       "\n",
       "  test preparation course  math score  reading score  writing score  \n",
       "0                    none          72             72             74  \n",
       "1               completed          69             90             88  \n",
       "2                    none          90             95             93  \n",
       "3                    none          47             57             44  \n",
       "4                    none          76             78             75  "
      ]
     },
     "execution_count": 2,
     "metadata": {},
     "output_type": "execute_result"
    }
   ],
   "source": [
    "#Importing the Dataset\n",
    "\n",
    "alldata = pd.read_csv(\"/Users/giuliocassis/desktop/studentperformance/StudentsPerformance.csv\")\n",
    "alldata.head()"
   ]
  },
  {
   "cell_type": "code",
   "execution_count": 3,
   "metadata": {},
   "outputs": [
    {
     "data": {
      "text/html": [
       "<div>\n",
       "<style scoped>\n",
       "    .dataframe tbody tr th:only-of-type {\n",
       "        vertical-align: middle;\n",
       "    }\n",
       "\n",
       "    .dataframe tbody tr th {\n",
       "        vertical-align: top;\n",
       "    }\n",
       "\n",
       "    .dataframe thead th {\n",
       "        text-align: right;\n",
       "    }\n",
       "</style>\n",
       "<table border=\"1\" class=\"dataframe\">\n",
       "  <thead>\n",
       "    <tr style=\"text-align: right;\">\n",
       "      <th></th>\n",
       "      <th>gender</th>\n",
       "      <th>ethnicity</th>\n",
       "      <th>parents_education</th>\n",
       "      <th>lunch</th>\n",
       "      <th>test_prep</th>\n",
       "      <th>math_score</th>\n",
       "      <th>reading_score</th>\n",
       "      <th>writing_score</th>\n",
       "    </tr>\n",
       "  </thead>\n",
       "  <tbody>\n",
       "    <tr>\n",
       "      <th>0</th>\n",
       "      <td>female</td>\n",
       "      <td>group B</td>\n",
       "      <td>bachelor's degree</td>\n",
       "      <td>standard</td>\n",
       "      <td>none</td>\n",
       "      <td>72</td>\n",
       "      <td>72</td>\n",
       "      <td>74</td>\n",
       "    </tr>\n",
       "    <tr>\n",
       "      <th>1</th>\n",
       "      <td>female</td>\n",
       "      <td>group C</td>\n",
       "      <td>some college</td>\n",
       "      <td>standard</td>\n",
       "      <td>completed</td>\n",
       "      <td>69</td>\n",
       "      <td>90</td>\n",
       "      <td>88</td>\n",
       "    </tr>\n",
       "    <tr>\n",
       "      <th>2</th>\n",
       "      <td>female</td>\n",
       "      <td>group B</td>\n",
       "      <td>master's degree</td>\n",
       "      <td>standard</td>\n",
       "      <td>none</td>\n",
       "      <td>90</td>\n",
       "      <td>95</td>\n",
       "      <td>93</td>\n",
       "    </tr>\n",
       "    <tr>\n",
       "      <th>3</th>\n",
       "      <td>male</td>\n",
       "      <td>group A</td>\n",
       "      <td>associate's degree</td>\n",
       "      <td>free/reduced</td>\n",
       "      <td>none</td>\n",
       "      <td>47</td>\n",
       "      <td>57</td>\n",
       "      <td>44</td>\n",
       "    </tr>\n",
       "    <tr>\n",
       "      <th>4</th>\n",
       "      <td>male</td>\n",
       "      <td>group C</td>\n",
       "      <td>some college</td>\n",
       "      <td>standard</td>\n",
       "      <td>none</td>\n",
       "      <td>76</td>\n",
       "      <td>78</td>\n",
       "      <td>75</td>\n",
       "    </tr>\n",
       "  </tbody>\n",
       "</table>\n",
       "</div>"
      ],
      "text/plain": [
       "   gender ethnicity   parents_education         lunch  test_prep  math_score  \\\n",
       "0  female   group B   bachelor's degree      standard       none          72   \n",
       "1  female   group C        some college      standard  completed          69   \n",
       "2  female   group B     master's degree      standard       none          90   \n",
       "3    male   group A  associate's degree  free/reduced       none          47   \n",
       "4    male   group C        some college      standard       none          76   \n",
       "\n",
       "   reading_score  writing_score  \n",
       "0             72             74  \n",
       "1             90             88  \n",
       "2             95             93  \n",
       "3             57             44  \n",
       "4             78             75  "
      ]
     },
     "execution_count": 3,
     "metadata": {},
     "output_type": "execute_result"
    }
   ],
   "source": [
    "#Getting a general understanding of the dataset\n",
    "\n",
    "alldata.shape\n",
    "alldata.describe()\n",
    "\n",
    "alldata.rename(columns = {\"race/ethnicity\": \"ethnicity\", \"parental level of education\": \"parents_education\", \n",
    "                          \"test preparation course\":\"test_prep\", \"math score\": \"math_score\", \"reading score\": \"reading_score\", \n",
    "                         \"writing score\": \"writing_score\"}, inplace = True)\n",
    "alldata.head()\n"
   ]
  },
  {
   "cell_type": "code",
   "execution_count": 4,
   "metadata": {},
   "outputs": [
    {
     "data": {
      "text/html": [
       "<div>\n",
       "<style scoped>\n",
       "    .dataframe tbody tr th:only-of-type {\n",
       "        vertical-align: middle;\n",
       "    }\n",
       "\n",
       "    .dataframe tbody tr th {\n",
       "        vertical-align: top;\n",
       "    }\n",
       "\n",
       "    .dataframe thead th {\n",
       "        text-align: right;\n",
       "    }\n",
       "</style>\n",
       "<table border=\"1\" class=\"dataframe\">\n",
       "  <thead>\n",
       "    <tr style=\"text-align: right;\">\n",
       "      <th></th>\n",
       "      <th>gender</th>\n",
       "      <th>ethnicity</th>\n",
       "      <th>parents_education</th>\n",
       "      <th>lunch</th>\n",
       "      <th>test_prep</th>\n",
       "      <th>math_score</th>\n",
       "      <th>reading_score</th>\n",
       "      <th>writing_score</th>\n",
       "    </tr>\n",
       "  </thead>\n",
       "  <tbody>\n",
       "    <tr>\n",
       "      <th>0</th>\n",
       "      <td>1</td>\n",
       "      <td>2</td>\n",
       "      <td>5</td>\n",
       "      <td>1</td>\n",
       "      <td>0</td>\n",
       "      <td>72</td>\n",
       "      <td>72</td>\n",
       "      <td>74</td>\n",
       "    </tr>\n",
       "    <tr>\n",
       "      <th>1</th>\n",
       "      <td>1</td>\n",
       "      <td>3</td>\n",
       "      <td>3</td>\n",
       "      <td>1</td>\n",
       "      <td>1</td>\n",
       "      <td>69</td>\n",
       "      <td>90</td>\n",
       "      <td>88</td>\n",
       "    </tr>\n",
       "    <tr>\n",
       "      <th>2</th>\n",
       "      <td>1</td>\n",
       "      <td>2</td>\n",
       "      <td>6</td>\n",
       "      <td>1</td>\n",
       "      <td>0</td>\n",
       "      <td>90</td>\n",
       "      <td>95</td>\n",
       "      <td>93</td>\n",
       "    </tr>\n",
       "    <tr>\n",
       "      <th>3</th>\n",
       "      <td>0</td>\n",
       "      <td>1</td>\n",
       "      <td>4</td>\n",
       "      <td>0</td>\n",
       "      <td>0</td>\n",
       "      <td>47</td>\n",
       "      <td>57</td>\n",
       "      <td>44</td>\n",
       "    </tr>\n",
       "    <tr>\n",
       "      <th>4</th>\n",
       "      <td>0</td>\n",
       "      <td>3</td>\n",
       "      <td>3</td>\n",
       "      <td>1</td>\n",
       "      <td>0</td>\n",
       "      <td>76</td>\n",
       "      <td>78</td>\n",
       "      <td>75</td>\n",
       "    </tr>\n",
       "  </tbody>\n",
       "</table>\n",
       "</div>"
      ],
      "text/plain": [
       "   gender  ethnicity  parents_education  lunch  test_prep  math_score  \\\n",
       "0       1          2                  5      1          0          72   \n",
       "1       1          3                  3      1          1          69   \n",
       "2       1          2                  6      1          0          90   \n",
       "3       0          1                  4      0          0          47   \n",
       "4       0          3                  3      1          0          76   \n",
       "\n",
       "   reading_score  writing_score  \n",
       "0             72             74  \n",
       "1             90             88  \n",
       "2             95             93  \n",
       "3             57             44  \n",
       "4             78             75  "
      ]
     },
     "execution_count": 4,
     "metadata": {},
     "output_type": "execute_result"
    }
   ],
   "source": [
    "#To make analysis easier, converting categorical variables to numerical.\n",
    "\n",
    "alldata[\"gender\"]= alldata[\"gender\"].apply({\"male\":0, \"female\":1}.get)\n",
    "alldata[\"ethnicity\"]= alldata[\"ethnicity\"].apply({\"group A\":1, \"group B\": 2, \"group C\":3, \"group D\":4 , \"group E\":5}.get)\n",
    "alldata[\"parents_education\"]= alldata[\"parents_education\"].apply({\"some high school\":1, \"high school\":2, \"some college\":3,\"associate's degree\":4,\"bachelor's degree\":5, \"master's degree\":6}.get)\n",
    "alldata[\"lunch\"]= alldata[\"lunch\"].apply({\"free/reduced\":0, \"standard\":1}.get)\n",
    "alldata[\"test_prep\"] = alldata[\"test_prep\"].apply({\"none\":0, \"completed\":1}.get)\n",
    "alldata.head()"
   ]
  },
  {
   "cell_type": "code",
   "execution_count": 5,
   "metadata": {},
   "outputs": [
    {
     "data": {
      "text/plain": [
       "array([[26.96629213, 20.        , 15.36050157, 19.08396947, 12.85714286],\n",
       "       [20.2247191 , 25.26315789, 20.06269592, 16.79389313, 15.71428571],\n",
       "       [20.2247191 , 19.47368421, 21.63009404, 25.57251908, 25.        ],\n",
       "       [15.73033708, 21.57894737, 24.45141066, 19.08396947, 27.85714286],\n",
       "       [13.48314607, 10.52631579, 12.53918495, 10.6870229 , 12.85714286],\n",
       "       [ 3.37078652,  3.15789474,  5.95611285,  8.77862595,  5.71428571]])"
      ]
     },
     "execution_count": 5,
     "metadata": {},
     "output_type": "execute_result"
    }
   ],
   "source": [
    "#Making 6x5 array with each row representing the education level of parents and column representing ethnicity for ex. first row, first column = student whos ethnicity is 1 and parents education is 1.\n",
    "\n",
    "selecteddata = alldata[[\"ethnicity\", \"parents_education\"]]\n",
    "data = np.zeros((6,5))\n",
    "for i in range(len(selecteddata[\"parents_education\"])): \n",
    "    education = selecteddata[\"parents_education\"][i] \n",
    "    ethnicity = selecteddata[\"ethnicity\"][i]\n",
    "    data[education - 1][ethnicity -1] += 1 \n",
    "data\n",
    "data = (np.true_divide(data, data.sum(axis = 0)))*100\n",
    "data\n"
   ]
  },
  {
   "cell_type": "code",
   "execution_count": 6,
   "metadata": {},
   "outputs": [],
   "source": [
    "xvalues = [\"group A\", \"group B\", \"group C\", \"group D\", \"group E\"]\n",
    "education = [\"some high school\", \"high school\", \"some college\", \"associate's degree\", \"bachelor's degree\", \"master's degree\"]"
   ]
  },
  {
   "cell_type": "code",
   "execution_count": 7,
   "metadata": {},
   "outputs": [
    {
     "data": {
      "text/plain": [
       "<matplotlib.legend.Legend at 0x105f246a0>"
      ]
     },
     "execution_count": 7,
     "metadata": {},
     "output_type": "execute_result"
    },
    {
     "data": {
      "image/png": "[encoded data removed]",
      "text/plain": [
       "<Figure size 576x360 with 1 Axes>"
      ]
     },
     "metadata": {},
     "output_type": "display_data"
    }
   ],
   "source": [
    "#Creating Stacked BarChart representing Distribution of Parental Education by Ethnicity.\n",
    "\n",
    "seaborn.set()\n",
    "fig, ax = plt.subplots(figsize = (8,5))\n",
    "fig.suptitle(\"Distribution of Parental Education by Ethnicity Group\", fontsize = 15)\n",
    "graph1=ax.bar(xvalues, data[0], color =\"darkgrey\")\n",
    "graph2=ax.bar(xvalues, data[1], bottom = data[0], color = \"lightskyblue\")\n",
    "graph3=ax.bar(xvalues, data[2], bottom = data[0]+ data[1],color =\"royalblue\")\n",
    "graph4=ax.bar(xvalues, data[3], bottom = data[0]+ data[1]+ data[2],color =\"darkorange\")\n",
    "graph5=ax.bar(xvalues, data[4], bottom = data[0]+ data[1]+ data[2]+ data[3], color = \"darksalmon\")\n",
    "graph6=ax.bar(xvalues, data[5], bottom = data[0]+ data[1]+ data[2]+ data[3]+ data[4], color =\"gold\")\n",
    "ax.set_ylabel(\"Distribution of Parental Education (%)\")\n",
    "ax.set_xlabel(\"Ethnicity Type\")\n",
    "\n",
    "plt.legend((graph6[0],graph5[0],graph4[0], graph3[0],graph2[0],graph1[0]), education[::-1], bbox_to_anchor=(1,0.8))"
   ]
  },
  {
   "cell_type": "code",
   "execution_count": 8,
   "metadata": {},
   "outputs": [
    {
     "data": {
      "text/html": [
       "<div>\n",
       "<style scoped>\n",
       "    .dataframe tbody tr th:only-of-type {\n",
       "        vertical-align: middle;\n",
       "    }\n",
       "\n",
       "    .dataframe tbody tr th {\n",
       "        vertical-align: top;\n",
       "    }\n",
       "\n",
       "    .dataframe thead th {\n",
       "        text-align: right;\n",
       "    }\n",
       "</style>\n",
       "<table border=\"1\" class=\"dataframe\">\n",
       "  <thead>\n",
       "    <tr style=\"text-align: right;\">\n",
       "      <th></th>\n",
       "      <th>gender</th>\n",
       "      <th>ethnicity</th>\n",
       "      <th>parents_education</th>\n",
       "      <th>lunch</th>\n",
       "      <th>test_prep</th>\n",
       "      <th>math_score</th>\n",
       "      <th>reading_score</th>\n",
       "      <th>writing_score</th>\n",
       "    </tr>\n",
       "  </thead>\n",
       "  <tbody>\n",
       "    <tr>\n",
       "      <th>gender</th>\n",
       "      <td>1.000000</td>\n",
       "      <td>0.001502</td>\n",
       "      <td>0.043934</td>\n",
       "      <td>-0.021372</td>\n",
       "      <td>-0.006028</td>\n",
       "      <td>-0.167982</td>\n",
       "      <td>0.244313</td>\n",
       "      <td>0.301225</td>\n",
       "    </tr>\n",
       "    <tr>\n",
       "      <th>ethnicity</th>\n",
       "      <td>0.001502</td>\n",
       "      <td>1.000000</td>\n",
       "      <td>0.095906</td>\n",
       "      <td>0.046563</td>\n",
       "      <td>0.017508</td>\n",
       "      <td>0.216415</td>\n",
       "      <td>0.145253</td>\n",
       "      <td>0.165691</td>\n",
       "    </tr>\n",
       "    <tr>\n",
       "      <th>parents_education</th>\n",
       "      <td>0.043934</td>\n",
       "      <td>0.095906</td>\n",
       "      <td>1.000000</td>\n",
       "      <td>-0.023259</td>\n",
       "      <td>-0.007143</td>\n",
       "      <td>0.159432</td>\n",
       "      <td>0.190908</td>\n",
       "      <td>0.236715</td>\n",
       "    </tr>\n",
       "    <tr>\n",
       "      <th>lunch</th>\n",
       "      <td>-0.021372</td>\n",
       "      <td>0.046563</td>\n",
       "      <td>-0.023259</td>\n",
       "      <td>1.000000</td>\n",
       "      <td>-0.017044</td>\n",
       "      <td>0.350877</td>\n",
       "      <td>0.229560</td>\n",
       "      <td>0.245769</td>\n",
       "    </tr>\n",
       "    <tr>\n",
       "      <th>test_prep</th>\n",
       "      <td>-0.006028</td>\n",
       "      <td>0.017508</td>\n",
       "      <td>-0.007143</td>\n",
       "      <td>-0.017044</td>\n",
       "      <td>1.000000</td>\n",
       "      <td>0.177702</td>\n",
       "      <td>0.241780</td>\n",
       "      <td>0.312946</td>\n",
       "    </tr>\n",
       "    <tr>\n",
       "      <th>math_score</th>\n",
       "      <td>-0.167982</td>\n",
       "      <td>0.216415</td>\n",
       "      <td>0.159432</td>\n",
       "      <td>0.350877</td>\n",
       "      <td>0.177702</td>\n",
       "      <td>1.000000</td>\n",
       "      <td>0.817580</td>\n",
       "      <td>0.802642</td>\n",
       "    </tr>\n",
       "    <tr>\n",
       "      <th>reading_score</th>\n",
       "      <td>0.244313</td>\n",
       "      <td>0.145253</td>\n",
       "      <td>0.190908</td>\n",
       "      <td>0.229560</td>\n",
       "      <td>0.241780</td>\n",
       "      <td>0.817580</td>\n",
       "      <td>1.000000</td>\n",
       "      <td>0.954598</td>\n",
       "    </tr>\n",
       "    <tr>\n",
       "      <th>writing_score</th>\n",
       "      <td>0.301225</td>\n",
       "      <td>0.165691</td>\n",
       "      <td>0.236715</td>\n",
       "      <td>0.245769</td>\n",
       "      <td>0.312946</td>\n",
       "      <td>0.802642</td>\n",
       "      <td>0.954598</td>\n",
       "      <td>1.000000</td>\n",
       "    </tr>\n",
       "  </tbody>\n",
       "</table>\n",
       "</div>"
      ],
      "text/plain": [
       "                     gender  ethnicity  parents_education     lunch  \\\n",
       "gender             1.000000   0.001502           0.043934 -0.021372   \n",
       "ethnicity          0.001502   1.000000           0.095906  0.046563   \n",
       "parents_education  0.043934   0.095906           1.000000 -0.023259   \n",
       "lunch             -0.021372   0.046563          -0.023259  1.000000   \n",
       "test_prep         -0.006028   0.017508          -0.007143 -0.017044   \n",
       "math_score        -0.167982   0.216415           0.159432  0.350877   \n",
       "reading_score      0.244313   0.145253           0.190908  0.229560   \n",
       "writing_score      0.301225   0.165691           0.236715  0.245769   \n",
       "\n",
       "                   test_prep  math_score  reading_score  writing_score  \n",
       "gender             -0.006028   -0.167982       0.244313       0.301225  \n",
       "ethnicity           0.017508    0.216415       0.145253       0.165691  \n",
       "parents_education  -0.007143    0.159432       0.190908       0.236715  \n",
       "lunch              -0.017044    0.350877       0.229560       0.245769  \n",
       "test_prep           1.000000    0.177702       0.241780       0.312946  \n",
       "math_score          0.177702    1.000000       0.817580       0.802642  \n",
       "reading_score       0.241780    0.817580       1.000000       0.954598  \n",
       "writing_score       0.312946    0.802642       0.954598       1.000000  "
      ]
     },
     "execution_count": 8,
     "metadata": {},
     "output_type": "execute_result"
    }
   ],
   "source": [
    "#Looking at correlation matrix of all variables\n",
    "\n",
    "corr = alldata.corr()\n",
    "corr"
   ]
  },
  {
   "cell_type": "code",
   "execution_count": 20,
   "metadata": {},
   "outputs": [
    {
     "data": {
      "text/plain": [
       "<matplotlib.axes._subplots.AxesSubplot at 0x1a197aa9b0>"
      ]
     },
     "execution_count": 20,
     "metadata": {},
     "output_type": "execute_result"
    },
    {
     "data": {
      "image/png": "[encoded data removed]",
      "text/plain": [
       "<Figure size 504x360 with 2 Axes>"
      ]
     },
     "metadata": {},
     "output_type": "display_data"
    }
   ],
   "source": [
    "#Using SeaBorn to make a much cleaner correlation matrix \n",
    "\n",
    "f,ax = plt.subplots(figsize = (7,5))\n",
    "corr = alldata.corr() \n",
    "seaborn.heatmap(corr,cmap=\"YlGnBu\", vmin = -1, vmax = 1, annot = True)"
   ]
  },
  {
   "cell_type": "code",
   "execution_count": 10,
   "metadata": {},
   "outputs": [
    {
     "name": "stdout",
     "output_type": "stream",
     "text": [
      "224\n",
      "[56.50892857 61.60267857 58.73660714]\n",
      "418\n",
      "[68.13397129 69.17703349 67.59569378]\n",
      "131\n",
      "[63.04580153 69.87022901 70.35114504]\n",
      "227\n",
      "[73.53303965 76.21585903 76.76651982]\n"
     ]
    }
   ],
   "source": [
    "#Seeing how Lunch Option and Test Prep Option affect Scores in each of 3 subjects.\n",
    "\n",
    "data3=alldata.loc[:,\"lunch\":\"writing_score\"]\n",
    "\n",
    "noprepnolunch = data3.loc[(data3['test_prep']==0) & (data3[\"lunch\"] == 0)]\n",
    "noprepnolunch = noprepnolunch.values\n",
    "print(len(noprepnolunch))\n",
    "noprepnolunch = (noprepnolunch.sum(axis = 0)/len(noprepnolunch))[2:]\n",
    "print(noprepnolunch)\n",
    "\n",
    "noprepyeslunch = data3.loc[(data3['test_prep']==0) & (data3[\"lunch\"] == 1)]\n",
    "noprepyeslunch = noprepyeslunch.values\n",
    "print(len(noprepyeslunch))\n",
    "noprepyeslunch = (noprepyeslunch.sum(axis = 0)/len(noprepyeslunch))[2:]\n",
    "print(noprepyeslunch)\n",
    "\n",
    "yesprepnolunch= data3.loc[(data3['test_prep']==1) & (data3[\"lunch\"] == 0)]\n",
    "yesprepnolunch = yesprepnolunch.values\n",
    "print(len(yesprepnolunch))\n",
    "yesprepnolunch = (yesprepnolunch.sum(axis = 0)/len(yesprepnolunch))[2:]\n",
    "print(yesprepnolunch)\n",
    "\n",
    "yesprepyeslunch= data3.loc[(data3['test_prep']==1) & (data3[\"lunch\"] == 1)]\n",
    "yesprepyeslunch = yesprepyeslunch.values\n",
    "print(len(yesprepyeslunch))\n",
    "yesprepyeslunch = (yesprepyeslunch.sum(axis = 0)/len(yesprepyeslunch))[2:]\n",
    "print(yesprepyeslunch)\n",
    "\n",
    "\n",
    "total = np.vstack((noprepnolunch,noprepyeslunch,yesprepnolunch, yesprepyeslunch ))"
   ]
  },
  {
   "cell_type": "code",
   "execution_count": 11,
   "metadata": {},
   "outputs": [
    {
     "data": {
      "text/plain": [
       "<matplotlib.legend.Legend at 0x1a1903f5f8>"
      ]
     },
     "execution_count": 11,
     "metadata": {},
     "output_type": "execute_result"
    },
    {
     "data": {
      "image/png": "[encoded data removed]",
      "text/plain": [
       "<Figure size 864x576 with 1 Axes>"
      ]
     },
     "metadata": {},
     "output_type": "display_data"
    }
   ],
   "source": [
    "#Creating BarChart of test scores depending on Lunch Option and TestPrep Option\n",
    "\n",
    "seaborn.set()\n",
    "fig,ax = plt.subplots(figsize = (12,8))\n",
    "fig.suptitle(\"How TestPrep Affects Scores\", fontsize = 15, y = 0.92)\n",
    "\n",
    "ax.set_ylim(0,100)\n",
    "ax.set_ylabel(\"Average Test Score\")\n",
    "#OR plt.set_ylabel..\n",
    "\n",
    "ax.set_xticks([1.1,2.1,3.1])\n",
    "ax.set_xticklabels([\"Math Score\", \"Reading Score\", \"Writing Score\"])\n",
    "#OR plt.xticks([1,2,3], [\"Math Score\", \"Reading Score\", \"Writing Score\"])\n",
    "ax.yaxis.set_ticks(np.arange(0, 100, 5))\n",
    "#OR plt.yticks(np.arange(0,100,5))\n",
    "    \n",
    "plt.bar([0.8,1.8,2.8],total[0], width = 0.2, label = \"FreeLunch + NoPrep\", color = \"lightskyblue\")\n",
    "plt.bar([1,2,3], total[1], width = 0.2, label = \"StandardLunch + NoPrep\", color = \"royalblue\")\n",
    "plt.bar([1.2,2.2,3.2], total[2], width = 0.2, label = \"FreeLunch + YesPrep\", color =\"darkorange\")\n",
    "plt.bar([1.4,2.4,3.4], total[3], width = 0.2, label = \"StandardLunch + YesPrep\", color = \"gold\")\n",
    "\n",
    "plt.legend()"
   ]
  },
  {
   "cell_type": "code",
   "execution_count": 12,
   "metadata": {},
   "outputs": [
    {
     "data": {
      "text/html": [
       "<div>\n",
       "<style scoped>\n",
       "    .dataframe tbody tr th:only-of-type {\n",
       "        vertical-align: middle;\n",
       "    }\n",
       "\n",
       "    .dataframe tbody tr th {\n",
       "        vertical-align: top;\n",
       "    }\n",
       "\n",
       "    .dataframe thead th {\n",
       "        text-align: right;\n",
       "    }\n",
       "</style>\n",
       "<table border=\"1\" class=\"dataframe\">\n",
       "  <thead>\n",
       "    <tr style=\"text-align: right;\">\n",
       "      <th></th>\n",
       "      <th>gender</th>\n",
       "      <th>ethnicity</th>\n",
       "      <th>parents_education</th>\n",
       "      <th>lunch</th>\n",
       "      <th>test_prep</th>\n",
       "      <th>math_score</th>\n",
       "      <th>reading_score</th>\n",
       "      <th>writing_score</th>\n",
       "    </tr>\n",
       "  </thead>\n",
       "  <tbody>\n",
       "    <tr>\n",
       "      <th>0</th>\n",
       "      <td>1</td>\n",
       "      <td>2</td>\n",
       "      <td>5</td>\n",
       "      <td>1</td>\n",
       "      <td>0</td>\n",
       "      <td>72</td>\n",
       "      <td>72</td>\n",
       "      <td>74</td>\n",
       "    </tr>\n",
       "    <tr>\n",
       "      <th>1</th>\n",
       "      <td>1</td>\n",
       "      <td>3</td>\n",
       "      <td>3</td>\n",
       "      <td>1</td>\n",
       "      <td>1</td>\n",
       "      <td>69</td>\n",
       "      <td>90</td>\n",
       "      <td>88</td>\n",
       "    </tr>\n",
       "    <tr>\n",
       "      <th>2</th>\n",
       "      <td>1</td>\n",
       "      <td>2</td>\n",
       "      <td>6</td>\n",
       "      <td>1</td>\n",
       "      <td>0</td>\n",
       "      <td>90</td>\n",
       "      <td>95</td>\n",
       "      <td>93</td>\n",
       "    </tr>\n",
       "    <tr>\n",
       "      <th>3</th>\n",
       "      <td>0</td>\n",
       "      <td>1</td>\n",
       "      <td>4</td>\n",
       "      <td>0</td>\n",
       "      <td>0</td>\n",
       "      <td>47</td>\n",
       "      <td>57</td>\n",
       "      <td>44</td>\n",
       "    </tr>\n",
       "    <tr>\n",
       "      <th>4</th>\n",
       "      <td>0</td>\n",
       "      <td>3</td>\n",
       "      <td>3</td>\n",
       "      <td>1</td>\n",
       "      <td>0</td>\n",
       "      <td>76</td>\n",
       "      <td>78</td>\n",
       "      <td>75</td>\n",
       "    </tr>\n",
       "  </tbody>\n",
       "</table>\n",
       "</div>"
      ],
      "text/plain": [
       "   gender  ethnicity  parents_education  lunch  test_prep  math_score  \\\n",
       "0       1          2                  5      1          0          72   \n",
       "1       1          3                  3      1          1          69   \n",
       "2       1          2                  6      1          0          90   \n",
       "3       0          1                  4      0          0          47   \n",
       "4       0          3                  3      1          0          76   \n",
       "\n",
       "   reading_score  writing_score  \n",
       "0             72             74  \n",
       "1             90             88  \n",
       "2             95             93  \n",
       "3             57             44  \n",
       "4             78             75  "
      ]
     },
     "execution_count": 12,
     "metadata": {},
     "output_type": "execute_result"
    }
   ],
   "source": [
    "alldata.head()"
   ]
  },
  {
   "cell_type": "code",
   "execution_count": 13,
   "metadata": {},
   "outputs": [
    {
     "name": "stdout",
     "output_type": "stream",
     "text": [
      "[[ 0.4  1.2  3.4 10.  18.9 27.  21.5 12.6  5. ]\n",
      " [ 0.1  0.7  1.9  7.  17.8 23.8 25.2 17.3  6.2]\n",
      " [ 0.3  0.7  2.5  8.9 17.7 24.3 24.8 14.   6.8]]\n"
     ]
    }
   ],
   "source": [
    "#Looking at Distribution of Scores for Each Subject\n",
    "\n",
    "math = alldata.loc[:,\"math_score\"]\n",
    "reading = alldata.loc[:,\"reading_score\"]\n",
    "writing= alldata.loc[:, \"writing_score\"]\n",
    "\n",
    "#convert to numpy array (array is regardless of 1D or 2D)\n",
    "math = math.values \n",
    "reading = reading.values \n",
    "writing = writing.values \n",
    "\n",
    "subjects= [math,reading,writing]\n",
    "total = []  \n",
    "for i in range(len(subjects)):\n",
    "        cat1 = ((subjects[i] >= 0)& (subjects[i] <= 20)).sum()\n",
    "        cat2 = ((subjects[i] >=21)& (subjects[i] <=30)).sum()\n",
    "        cat3= ((subjects[i] >=31) & (subjects[i]<=40)).sum()\n",
    "        cat4= ((subjects[i] >=41) & (subjects[i] <=50)).sum()\n",
    "        cat5= ((subjects[i] >=51) & (subjects[i] <=60)).sum()\n",
    "        cat6= ((subjects[i] >=61) & (subjects[i] <=70)).sum()\n",
    "        cat7= ((subjects[i] >=71) & (subjects[i] <=80)).sum()\n",
    "        cat8= ((subjects[i] >=81) & (subjects[i] <=90)).sum()\n",
    "        cat9= ((subjects[i] >=91) & (subjects[i] <=100)).sum()\n",
    "        total += [[cat1,cat2,cat3,cat4,cat5,cat6,cat7,cat8,cat9]]\n",
    "total =np.asarray(total)\n",
    "total =(np.divide(total,1000))*100\n",
    "print(total)\n",
    "\n",
    "\n",
    "xlabel= [\"0-20\", \"21-30\", \"31-40\", \"41-50\", \"51-60\", \"61-70\", \"71-80\", \"81-90\", \"91-100\"]\n",
    "\n"
   ]
  },
  {
   "cell_type": "code",
   "execution_count": 14,
   "metadata": {},
   "outputs": [
    {
     "data": {
      "text/plain": [
       "Text(0,0.5,'% of Total')"
      ]
     },
     "execution_count": 14,
     "metadata": {},
     "output_type": "execute_result"
    },
    {
     "data": {
      "image/png": "[encoded data removed]",
      "text/plain": [
       "<Figure size 1440x360 with 3 Axes>"
      ]
     },
     "metadata": {},
     "output_type": "display_data"
    }
   ],
   "source": [
    "#Generating 3 subplots with score distribution for each subject\n",
    "\n",
    "seaborn.set()\n",
    "fig = plt.subplots(figsize =(20,5))\n",
    "\n",
    "plt.subplot(1,3,1)\n",
    "plt.title(\"Math Score Distribution\")\n",
    "axes = plt.gca()\n",
    "axes.set_ylim([0,50])\n",
    "plt.bar(xlabel, total[0])\n",
    "plt.xlabel(\"Scores\")\n",
    "plt.ylabel(\"% of Total\")\n",
    "\n",
    "plt.subplot(1,3,2)\n",
    "plt.title(\"Reading Score Distribution\")\n",
    "axes = plt.gca()\n",
    "axes.set_ylim([0,50])\n",
    "plt.bar(xlabel, total[1])\n",
    "plt.xlabel(\"Scores\")\n",
    "plt.ylabel(\"% of Total\")\n",
    "\n",
    "plt.subplot(1,3,3)\n",
    "plt.title(\"Writing Score Distribution\")\n",
    "axes = plt.gca()\n",
    "axes.set_ylim([0,50])\n",
    "plt.xlabel(\"Scores\")\n",
    "plt.bar(xlabel, total[2])\n",
    "plt.ylabel(\"% of Total\")"
   ]
  },
  {
   "cell_type": "markdown",
   "metadata": {},
   "source": [
    "Now trying Linear Regression. I aim to predict a students test_score (average of three subjects) using other variables."
   ]
  },
  {
   "cell_type": "code",
   "execution_count": 15,
   "metadata": {},
   "outputs": [],
   "source": [
    "#Adding column which is average score of 3 subjects\n",
    "\n",
    "alldata = alldata.assign(avg_score = lambda x:(x[\"math_score\"]+ x[\"reading_score\"]+x[\"writing_score\"])/3)\n",
    "alldata = alldata.iloc[:,[0,1,2,3,4,8]]\n"
   ]
  },
  {
   "cell_type": "code",
   "execution_count": 16,
   "metadata": {},
   "outputs": [
    {
     "data": {
      "text/html": [
       "<div>\n",
       "<style scoped>\n",
       "    .dataframe tbody tr th:only-of-type {\n",
       "        vertical-align: middle;\n",
       "    }\n",
       "\n",
       "    .dataframe tbody tr th {\n",
       "        vertical-align: top;\n",
       "    }\n",
       "\n",
       "    .dataframe thead th {\n",
       "        text-align: right;\n",
       "    }\n",
       "</style>\n",
       "<table border=\"1\" class=\"dataframe\">\n",
       "  <thead>\n",
       "    <tr style=\"text-align: right;\">\n",
       "      <th></th>\n",
       "      <th>gender</th>\n",
       "      <th>ethnicity</th>\n",
       "      <th>parents_education</th>\n",
       "      <th>lunch</th>\n",
       "      <th>test_prep</th>\n",
       "      <th>avg_score</th>\n",
       "    </tr>\n",
       "  </thead>\n",
       "  <tbody>\n",
       "    <tr>\n",
       "      <th>0</th>\n",
       "      <td>1</td>\n",
       "      <td>2</td>\n",
       "      <td>5</td>\n",
       "      <td>1</td>\n",
       "      <td>0</td>\n",
       "      <td>72.666667</td>\n",
       "    </tr>\n",
       "    <tr>\n",
       "      <th>1</th>\n",
       "      <td>1</td>\n",
       "      <td>3</td>\n",
       "      <td>3</td>\n",
       "      <td>1</td>\n",
       "      <td>1</td>\n",
       "      <td>82.333333</td>\n",
       "    </tr>\n",
       "    <tr>\n",
       "      <th>2</th>\n",
       "      <td>1</td>\n",
       "      <td>2</td>\n",
       "      <td>6</td>\n",
       "      <td>1</td>\n",
       "      <td>0</td>\n",
       "      <td>92.666667</td>\n",
       "    </tr>\n",
       "    <tr>\n",
       "      <th>3</th>\n",
       "      <td>0</td>\n",
       "      <td>1</td>\n",
       "      <td>4</td>\n",
       "      <td>0</td>\n",
       "      <td>0</td>\n",
       "      <td>49.333333</td>\n",
       "    </tr>\n",
       "    <tr>\n",
       "      <th>4</th>\n",
       "      <td>0</td>\n",
       "      <td>3</td>\n",
       "      <td>3</td>\n",
       "      <td>1</td>\n",
       "      <td>0</td>\n",
       "      <td>76.333333</td>\n",
       "    </tr>\n",
       "  </tbody>\n",
       "</table>\n",
       "</div>"
      ],
      "text/plain": [
       "   gender  ethnicity  parents_education  lunch  test_prep  avg_score\n",
       "0       1          2                  5      1          0  72.666667\n",
       "1       1          3                  3      1          1  82.333333\n",
       "2       1          2                  6      1          0  92.666667\n",
       "3       0          1                  4      0          0  49.333333\n",
       "4       0          3                  3      1          0  76.333333"
      ]
     },
     "execution_count": 16,
     "metadata": {},
     "output_type": "execute_result"
    }
   ],
   "source": [
    "alldata.head()"
   ]
  },
  {
   "cell_type": "code",
   "execution_count": 17,
   "metadata": {},
   "outputs": [],
   "source": [
    "#Linear Regression Model using Sk-Learn\n",
    "\n",
    "from sklearn.model_selection import train_test_split\n",
    "from sklearn import linear_model\n",
    "X = alldata[alldata.columns[0:5]]\n",
    "y = alldata[alldata.columns[5]]\n",
    "X_train, X_test, y_train, y_test = train_test_split(X, y, test_size=0.2)\n",
    "regr=linear_model.LinearRegression()\n",
    "regr.fit(X_train, y_train)\n",
    "pred_train = regr.predict(X_train)\n",
    "pred_test = regr.predict(X_test)"
   ]
  },
  {
   "cell_type": "code",
   "execution_count": 18,
   "metadata": {
    "scrolled": true
   },
   "outputs": [
    {
     "data": {
      "text/plain": [
       "Text(0.5,1,'Residual Plot')"
      ]
     },
     "execution_count": 18,
     "metadata": {},
     "output_type": "execute_result"
    },
    {
     "data": {
      "image/png": "[encoded data removed]",
      "text/plain": [
       "<Figure size 504x504 with 1 Axes>"
      ]
     },
     "metadata": {},
     "output_type": "display_data"
    }
   ],
   "source": [
    "#Looking at the size of the residuals. Ideally, the points would be scattered as close to zero as possible.\n",
    "\n",
    "fig,ax = plt.subplots(figsize = (7,7))\n",
    "ax.set_ylabel(\"Residual Size\")\n",
    "\n",
    "plt.scatter(regr.predict(X_train), regr.predict(X_train)- y_train, c = \"b\")\n",
    "plt.scatter(regr.predict(X_test), regr.predict(X_test)- y_test, c=\"g\")\n",
    "plt.hlines(y=0, xmin = 0, xmax = 100)\n",
    "plt.title(\"Residual Plot\")"
   ]
  },
  {
   "cell_type": "code",
   "execution_count": 19,
   "metadata": {},
   "outputs": [
    {
     "name": "stdout",
     "output_type": "stream",
     "text": [
      "19.24% of the variation in testscores is explained by gender, ethnicity, parentseducation, lunchoption, and testpreparation. The most important factors which determine TestScores are LunchOption and TestPreparation which have coeff.  values of 8.9 and 7.59, followed by gender, ethnicity, and parents education. On average,the score predicted by this regression is 12.78 points off from the actual score that a student gets.\n"
     ]
    }
   ],
   "source": [
    "#Evaluating the model using R squared and MRSE. \n",
    "\n",
    "from math import sqrt\n",
    "from scipy import stats\n",
    "from sklearn.metrics import mean_squared_error\n",
    "\n",
    "coefficients = regr.coef_\n",
    "\n",
    "#r-squared\n",
    "r_squared = regr.score(X_test, y_test)\n",
    "r_squared = r_squared *100\n",
    "r_squared = str(round(r_squared,2))\n",
    "\n",
    "#mrse\n",
    "mrse = sqrt(mean_squared_error(y_test, pred_test))\n",
    "mrse = str(round(mrse,2))\n",
    "\n",
    "print(r_squared +\"% of the variation in testscores is explained by gender, ethnicity, parentseducation, \\\n",
    "lunchoption, and testpreparation. The most important factors which determine TestScores are LunchOption and TestPreparation which have coeff.  values of \" \\\n",
    "      + str(round(coefficients[3],2)) + \" and \" + str(round(coefficients[4],2)) + \", followed by \" + \"gender, ethnicity, and parents education.\" \\\n",
    "\" On average,the score predicted by this regression is \" + mrse + \" points off from the actual score that a student gets.\")"
   ]
  }
 ],
 "metadata": {
  "kernelspec": {
   "display_name": "Python 3",
   "language": "python",
   "name": "python3"
  },
  "language_info": {
   "codemirror_mode": {
    "name": "ipython",
    "version": 3
   },
   "file_extension": ".py",
   "mimetype": "text/x-python",
   "name": "python",
   "nbconvert_exporter": "python",
   "pygments_lexer": "ipython3",
   "version": "3.6.5"
  }
 },
 "nbformat": 4,
 "nbformat_minor": 2
}
